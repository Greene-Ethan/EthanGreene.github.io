{
 "cells": [
  {
   "cell_type": "markdown",
   "id": "e31ec6e7",
   "metadata": {},
   "source": [
    "# Importing necessary libraries "
   ]
  },
  {
   "cell_type": "code",
   "execution_count": 1,
   "id": "24516e2b-9721-4e96-a578-f6c294072bbd",
   "metadata": {},
   "outputs": [],
   "source": [
    "import torch\n",
    "from transformers import AutoTokenizer, AutoModelForCausalLM, Trainer, TrainingArguments\n",
    "from datasets import Dataset\n",
    "import json\n",
    "import pandas as pd"
   ]
  },
  {
   "cell_type": "markdown",
   "id": "dbaca339",
   "metadata": {},
   "source": [
    "# Import the model you would like to fine-tune"
   ]
  },
  {
   "cell_type": "code",
   "execution_count": 2,
   "id": "5d70ae3f-4b44-472f-afc4-83b90741d2ab",
   "metadata": {},
   "outputs": [
    {
     "name": "stderr",
     "output_type": "stream",
     "text": [
      "C:\\Users\\ethan\\anaconda3\\lib\\site-packages\\huggingface_hub\\file_download.py:896: FutureWarning: `resume_download` is deprecated and will be removed in version 1.0.0. Downloads always resume when possible. If you want to force a new download, use `force_download=True`.\n",
      "  warnings.warn(\n",
      "C:\\Users\\ethan\\anaconda3\\lib\\site-packages\\huggingface_hub\\file_download.py:896: FutureWarning: `resume_download` is deprecated and will be removed in version 1.0.0. Downloads always resume when possible. If you want to force a new download, use `force_download=True`.\n",
      "  warnings.warn(\n"
     ]
    }
   ],
   "source": [
    "model_name = \"Salesforce/codegen-350M-multi\"\n",
    "tokenizer = AutoTokenizer.from_pretrained(model_name)\n",
    "model = AutoModelForCausalLM.from_pretrained(model_name)\n",
    "model.config.pad_token_id = tokenizer.pad_token_id  # Prevents crashing during training"
   ]
  },
  {
   "cell_type": "markdown",
   "id": "11aa551f",
   "metadata": {},
   "source": [
    "# Import our dataset and combine prompt + response"
   ]
  },
  {
   "cell_type": "code",
   "execution_count": null,
   "id": "03015354",
   "metadata": {},
   "outputs": [],
   "source": [
    "with open(\"moreVars.json\", \"r\") as f:\n",
    "    data = json.load(f)\n",
    "\n",
    "dataset = pd.DataFrame(data)\n",
    "\n",
    "dataset[\"prompts\"] = dataset[\"code\"]\n",
    "dataset[\"responses\"] = dataset[\"variables\"].apply(lambda x: \", \".join(x))  # Convert list to string\n",
    "\n",
    "\n",
    "combined_texts = [p + \"\\n\" + r for p, r in zip(dataset[\"prompts\"], dataset[\"responses\"])]\n",
    "hf_dataset = Dataset.from_dict({\"text\": combined_texts})"
   ]
  },
  {
   "cell_type": "markdown",
   "id": "2e332331",
   "metadata": {},
   "source": [
    "# Tokenize data to transform text into numerical format for computational processing."
   ]
  },
  {
   "cell_type": "code",
   "execution_count": null,
   "id": "fadf7eef",
   "metadata": {},
   "outputs": [],
   "source": [
    "tokenizer = AutoTokenizer.from_pretrained(model_name)\n",
    "tokenizer.pad_token = tokenizer.eos_token  \n",
    "\n",
    "def tokenize_function(examples):\n",
    "    tokens = tokenizer(\n",
    "        examples[\"text\"],\n",
    "        truncation=True,\n",
    "        padding=\"max_length\",\n",
    "        max_length=128\n",
    "    )\n",
    "    tokens[\"labels\"] = tokens[\"input_ids\"].copy()\n",
    "    return tokens\n",
    "\n",
    "tokenized_dataset = hf_dataset.map(tokenize_function, batched=True)\n",
    "tokenized_dataset = tokenized_dataset.select(range(1500))\n",
    "train_dataset, eval_dataset = tokenized_dataset.train_test_split(test_size=0.2).values()"
   ]
  },
  {
   "cell_type": "markdown",
   "id": "7c5a4126",
   "metadata": {},
   "source": [
    "# Set training arguments and train model on your data!"
   ]
  },
  {
   "cell_type": "markdown",
   "id": "0ca22407",
   "metadata": {},
   "source": [
    "We want our Training loss and Validation loss to both decrease steadily at the same pace. If our validation loss begins to increase we are at risk of our model overfitting."
   ]
  },
  {
   "cell_type": "code",
   "execution_count": 4,
   "id": "b97c9b5d",
   "metadata": {
    "scrolled": true
   },
   "outputs": [
    {
     "name": "stderr",
     "output_type": "stream",
     "text": [
      "C:\\Users\\ethan\\anaconda3\\lib\\site-packages\\huggingface_hub\\file_download.py:896: FutureWarning: `resume_download` is deprecated and will be removed in version 1.0.0. Downloads always resume when possible. If you want to force a new download, use `force_download=True`.\n",
      "  warnings.warn(\n"
     ]
    },
    {
     "data": {
      "application/vnd.jupyter.widget-view+json": {
       "model_id": "49264c89c61b44058d15640a86739351",
       "version_major": 2,
       "version_minor": 0
      },
      "text/plain": [
       "Map:   0%|          | 0/3300 [00:00<?, ? examples/s]"
      ]
     },
     "metadata": {},
     "output_type": "display_data"
    },
    {
     "name": "stderr",
     "output_type": "stream",
     "text": [
      "C:\\Users\\ethan\\anaconda3\\lib\\site-packages\\transformers\\optimization.py:391: FutureWarning: This implementation of AdamW is deprecated and will be removed in a future version. Use the PyTorch implementation torch.optim.AdamW instead, or set `no_deprecation_warning=True` to disable this warning\n",
      "  warnings.warn(\n"
     ]
    },
    {
     "data": {
      "text/html": [
       "\n",
       "    <div>\n",
       "      \n",
       "      <progress value='1200' max='1200' style='width:300px; height:20px; vertical-align: middle;'></progress>\n",
       "      [1200/1200 6:48:59, Epoch 6/6]\n",
       "    </div>\n",
       "    <table border=\"1\" class=\"dataframe\">\n",
       "  <thead>\n",
       " <tr style=\"text-align: left;\">\n",
       "      <th>Step</th>\n",
       "      <th>Training Loss</th>\n",
       "      <th>Validation Loss</th>\n",
       "    </tr>\n",
       "  </thead>\n",
       "  <tbody>\n",
       "    <tr>\n",
       "      <td>50</td>\n",
       "      <td>0.120400</td>\n",
       "      <td>0.105956</td>\n",
       "    </tr>\n",
       "    <tr>\n",
       "      <td>100</td>\n",
       "      <td>0.091900</td>\n",
       "      <td>0.086203</td>\n",
       "    </tr>\n",
       "    <tr>\n",
       "      <td>150</td>\n",
       "      <td>0.085600</td>\n",
       "      <td>0.080075</td>\n",
       "    </tr>\n",
       "    <tr>\n",
       "      <td>200</td>\n",
       "      <td>0.082500</td>\n",
       "      <td>0.082080</td>\n",
       "    </tr>\n",
       "    <tr>\n",
       "      <td>250</td>\n",
       "      <td>0.079400</td>\n",
       "      <td>0.085273</td>\n",
       "    </tr>\n",
       "    <tr>\n",
       "      <td>300</td>\n",
       "      <td>0.079200</td>\n",
       "      <td>0.080031</td>\n",
       "    </tr>\n",
       "    <tr>\n",
       "      <td>350</td>\n",
       "      <td>0.078900</td>\n",
       "      <td>0.077896</td>\n",
       "    </tr>\n",
       "    <tr>\n",
       "      <td>400</td>\n",
       "      <td>0.077000</td>\n",
       "      <td>0.076162</td>\n",
       "    </tr>\n",
       "    <tr>\n",
       "      <td>450</td>\n",
       "      <td>0.068400</td>\n",
       "      <td>0.077273</td>\n",
       "    </tr>\n",
       "    <tr>\n",
       "      <td>500</td>\n",
       "      <td>0.074500</td>\n",
       "      <td>0.077939</td>\n",
       "    </tr>\n",
       "    <tr>\n",
       "      <td>550</td>\n",
       "      <td>0.076600</td>\n",
       "      <td>0.075097</td>\n",
       "    </tr>\n",
       "    <tr>\n",
       "      <td>600</td>\n",
       "      <td>0.073000</td>\n",
       "      <td>0.076693</td>\n",
       "    </tr>\n",
       "    <tr>\n",
       "      <td>650</td>\n",
       "      <td>0.061700</td>\n",
       "      <td>0.077366</td>\n",
       "    </tr>\n",
       "    <tr>\n",
       "      <td>700</td>\n",
       "      <td>0.074600</td>\n",
       "      <td>0.079561</td>\n",
       "    </tr>\n",
       "    <tr>\n",
       "      <td>750</td>\n",
       "      <td>0.064600</td>\n",
       "      <td>0.078331</td>\n",
       "    </tr>\n",
       "    <tr>\n",
       "      <td>800</td>\n",
       "      <td>0.070900</td>\n",
       "      <td>0.076873</td>\n",
       "    </tr>\n",
       "    <tr>\n",
       "      <td>850</td>\n",
       "      <td>0.049100</td>\n",
       "      <td>0.086667</td>\n",
       "    </tr>\n",
       "    <tr>\n",
       "      <td>900</td>\n",
       "      <td>0.065400</td>\n",
       "      <td>0.087738</td>\n",
       "    </tr>\n",
       "    <tr>\n",
       "      <td>950</td>\n",
       "      <td>0.062200</td>\n",
       "      <td>0.083838</td>\n",
       "    </tr>\n",
       "    <tr>\n",
       "      <td>1000</td>\n",
       "      <td>0.061800</td>\n",
       "      <td>0.083451</td>\n",
       "    </tr>\n",
       "    <tr>\n",
       "      <td>1050</td>\n",
       "      <td>0.039600</td>\n",
       "      <td>0.101978</td>\n",
       "    </tr>\n",
       "    <tr>\n",
       "      <td>1100</td>\n",
       "      <td>0.036100</td>\n",
       "      <td>0.101981</td>\n",
       "    </tr>\n",
       "    <tr>\n",
       "      <td>1150</td>\n",
       "      <td>0.045400</td>\n",
       "      <td>0.101963</td>\n",
       "    </tr>\n",
       "    <tr>\n",
       "      <td>1200</td>\n",
       "      <td>0.042200</td>\n",
       "      <td>0.103856</td>\n",
       "    </tr>\n",
       "  </tbody>\n",
       "</table><p>"
      ],
      "text/plain": [
       "<IPython.core.display.HTML object>"
      ]
     },
     "metadata": {},
     "output_type": "display_data"
    },
    {
     "data": {
      "text/plain": [
       "('./my-fully-trained-model\\\\tokenizer_config.json',\n",
       " './my-fully-trained-model\\\\special_tokens_map.json',\n",
       " './my-fully-trained-model\\\\vocab.json',\n",
       " './my-fully-trained-model\\\\merges.txt',\n",
       " './my-fully-trained-model\\\\added_tokens.json',\n",
       " './my-fully-trained-model\\\\tokenizer.json')"
      ]
     },
     "execution_count": 4,
     "metadata": {},
     "output_type": "execute_result"
    }
   ],
   "source": [
    "training_args = TrainingArguments(\n",
    "    output_dir=\"./results\",\n",
    "    num_train_epochs=6,\n",
    "    per_device_train_batch_size=6,\n",
    "    per_device_eval_batch_size=2,\n",
    "    warmup_steps=10,\n",
    "    weight_decay=0.01,\n",
    "    logging_dir=\"./logs\",\n",
    "    logging_steps=5,\n",
    "    save_steps=50,\n",
    "    evaluation_strategy=\"steps\",  \n",
    "    eval_steps=50,               \n",
    "    save_total_limit=2,            \n",
    "    load_best_model_at_end=True,\n",
    "    metric_for_best_model=\"eval_loss\", \n",
    "    greater_is_better=False   \n",
    ")\n",
    "\n",
    "trainer = Trainer(\n",
    "    model=model,\n",
    "    args=training_args,\n",
    "    train_dataset=train_dataset,'\n",
    "    [[aSQ\n",
    "    eval_daaset=eval_dataset,\n",
    "          )\n",
    "\n",
    "trainer.train()\n",
    "\n",
    "trainer.save_model(\"./my-fully-trained-model\") #File we save our model to\n",
    "tokenizer.save_pretrained(\"./my-fully-trained-model\")"
   ]
  },
  {
   "cell_type": "markdown",
   "id": "346d1328",
   "metadata": {},
   "source": [
    "# Now we load our model back in and apply some post processing functions to ensure accurate results"
   ]
  },
  {
   "cell_type": "code",
   "execution_count": 5,
   "id": "993a0f49",
   "metadata": {},
   "outputs": [],
   "source": [
    "model = AutoModelForCausalLM.from_pretrained(\"./my-fully-trained-model\")\n",
    "tokenizer = AutoTokenizer.from_pretrained(\"./my-fully-trained-model\")"
   ]
  },
  {
   "cell_type": "code",
   "execution_count": 6,
   "id": "ef1a3f34",
   "metadata": {},
   "outputs": [],
   "source": [
    "import re\n",
    "\n",
    "def predict_variables(code_snippet):\n",
    "    prompt = code_snippet.strip() + \"\\n\"\n",
    "    inputs = tokenizer(prompt, return_tensors=\"pt\", padding=True)\n",
    "    outputs = model.generate(\n",
    "        **inputs,\n",
    "        max_length=128,\n",
    "        pad_token_id=tokenizer.pad_token_id,\n",
    "        do_sample=True,\n",
    "        top_k=50,\n",
    "        top_p=0.95\n",
    "    )\n",
    "    result = tokenizer.decode(outputs[0], skip_special_tokens=True)\n",
    "    return result[len(prompt):].strip()\n",
    "\n",
    "def extract_variable_names(text):\n",
    "    # Define a list of Python keywords (you can expand this list)\n",
    "    python_keywords = {'return', 'def', 'class', 'if', 'else', 'for', 'while', 'try', 'except', 'with', 'as', 'import', 'from', 'in', 'sum', 'None'}\n",
    "    \n",
    "    # Use regex to capture valid variable names (a better match for most variable naming conventions)\n",
    "    variables = re.findall(r'\\b[a-zA-Z_][a-zA-Z0-9_]*\\b', text)\n",
    "    \n",
    "    # Filter out Python keywords and common function names\n",
    "    variables = [var for var in variables if var not in python_keywords]\n",
    "    \n",
    "    return list(set(variables))  # Remove duplicates\n",
    "\n",
    "# Apply the postprocessing function"
   ]
  },
  {
   "cell_type": "markdown",
   "id": "51a100f9",
   "metadata": {},
   "source": [
    "Here we test our model without post processing"
   ]
  },
  {
   "cell_type": "code",
   "execution_count": 27,
   "id": "91ea6599",
   "metadata": {},
   "outputs": [
    {
     "name": "stdout",
     "output_type": "stream",
     "text": [
      "lookup, store, v\n"
     ]
    }
   ],
   "source": [
    "code = \"lookup = {'a': 1, 'b': 2}\\nstore = [v for v in lookup.values()]\"\n",
    "v\n",
    "result = predict_variables(code)\n",
    "print(result)"
   ]
  },
  {
   "cell_type": "markdown",
   "id": "13617df7",
   "metadata": {},
   "source": [
    "Here we test our model with post processing, showing it stored our values as strings in a list"
   ]
  },
  {
   "cell_type": "code",
   "execution_count": 28,
   "id": "70935e26",
   "metadata": {},
   "outputs": [
    {
     "name": "stdout",
     "output_type": "stream",
     "text": [
      "['lookup', 'store', 'v']\n"
     ]
    }
   ],
   "source": [
    "code = \"lookup = {'a': 1, 'b': 2}\\nstore = [v for v in lookup.values()]\"\n",
    "\n",
    "result = predict_variables(code)\n",
    "variables = extract_variable_names(result)\n",
    "print(variables)  # Should give you only the variable names"
   ]
  }
 ],
 "metadata": {
  "kernelspec": {
   "display_name": "Python 3 (ipykernel)",
   "language": "python",
   "name": "python3"
  },
  "language_info": {
   "codemirror_mode": {
    "name": "ipython",
    "version": 3
   },
   "file_extension": ".py",
   "mimetype": "text/x-python",
   "name": "python",
   "nbconvert_exporter": "python",
   "pygments_lexer": "ipython3",
   "version": "3.9.13"
  }
 },
 "nbformat": 4,
 "nbformat_minor": 5
}
